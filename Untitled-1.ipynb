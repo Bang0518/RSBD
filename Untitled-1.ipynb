{
 "cells": [
  {
   "cell_type": "code",
   "execution_count": 1,
   "metadata": {},
   "outputs": [],
   "source": [
    "import numpy as np\n",
    "import pandas as pd\n",
    "import matplotlib.pyplot as plt\n",
    "\n",
    "epsilon = 50  # Learning rate 学习率\n",
    "lambda_ = 0.1  # Regularization parameter 正则化参数\n",
    "momentum = 0.7  # 动量优化参数\n",
    "epoch = 1  # 初始化epoch\n",
    "maxepoch = 30  # 总训练次数\n",
    "err_train = np.zeros(maxepoch)  # 训练误差\n",
    "err_valid = np.zeros(maxepoch)  # 验证误差\n",
    "err_random = np.zeros(maxepoch)\n",
    "num_feat = 10  # Rank 10 decomposition 隐因子数量\n",
    "N = 10000  # 每次训练三元组的数量"
   ]
  },
  {
   "cell_type": "code",
   "execution_count": 2,
   "metadata": {},
   "outputs": [],
   "source": [
    "train_data = pd.read_csv(\"data/training.txt\", sep=\" \", header=None, names=[\"user_id\", \"item_id\", \"click\"])\n",
    "train_data[\"click\"] = 5\n",
    "rating = train_data[\"click\"]\n",
    "movie = train_data[\"item_id\"]\n",
    "user = train_data[\"user_id\"]\n",
    "data_num = len(rating)\n",
    "movie_num = movie.max()\n",
    "user_num = user.max()\n"
   ]
  },
  {
   "cell_type": "code",
   "execution_count": 3,
   "metadata": {},
   "outputs": [],
   "source": [
    "negative_sample = np.random.choice(user_num * movie_num, data_num, replace=True)\n",
    "record_user = []\n",
    "record_movie = []\n",
    "record_rating = [1] * data_num\n",
    "\n",
    "for i in negative_sample:\n",
    "    movie_i = i // user_num\n",
    "    user_i = i % user_num + 1\n",
    "    record_user.append(user_i)\n",
    "    record_movie.append(movie_i)\n",
    "\n",
    "negative_data = pd.DataFrame({\"user_id\": record_user, \"item_id\": record_movie, \"click\": record_rating})\n"
   ]
  },
  {
   "cell_type": "code",
   "execution_count": 4,
   "metadata": {},
   "outputs": [],
   "source": [
    "data = pd.concat([train_data, negative_data])\n",
    "rating = data[\"click\"]\n",
    "movie = data[\"item_id\"]\n",
    "user = data[\"user_id\"]\n",
    "data_num = len(rating)\n",
    "movie_num = movie.max()\n",
    "user_num = user.max()\n",
    "data = data.sample(frac=1).reset_index(drop=True)  # 打乱数据集\n"
   ]
  },
  {
   "cell_type": "code",
   "execution_count": 5,
   "metadata": {},
   "outputs": [
    {
     "name": "stdout",
     "output_type": "stream",
     "text": [
      "Sparsity: 0.056043\n"
     ]
    }
   ],
   "source": [
    "sparsity = data_num / (movie_num * user_num)\n",
    "print(f\"Sparsity: {sparsity:.6f}\")\n"
   ]
  },
  {
   "cell_type": "code",
   "execution_count": 6,
   "metadata": {},
   "outputs": [],
   "source": [
    "train_num = 80000\n",
    "train_vec = data.iloc[:train_num]\n",
    "probe_vec = data.iloc[train_num:84000]\n",
    "mean_rating = train_vec[\"click\"].mean()\n",
    "pairs_tr = len(train_vec)\n",
    "pairs_pr = len(probe_vec)\n",
    "numbatches = 8\n",
    "num_m = movie_num\n",
    "num_p = user_num\n"
   ]
  },
  {
   "cell_type": "code",
   "execution_count": 7,
   "metadata": {},
   "outputs": [],
   "source": [
    "w1_M1 = 0.1 * np.random.rand(num_m, num_feat)\n",
    "w1_P1 = 0.1 * np.random.rand(num_p, num_feat)\n",
    "w1_M1_inc = np.zeros((num_m, num_feat))\n",
    "w1_P1_inc = np.zeros((num_p, num_feat))\n"
   ]
  },
  {
   "cell_type": "code",
   "execution_count": 8,
   "metadata": {},
   "outputs": [
    {
     "name": "stdout",
     "output_type": "stream",
     "text": [
      "Epoch 1/30, Train RMSE: 1.8100, Test RMSE: 1.8069\n",
      "Epoch 2/30, Train RMSE: 1.6884, Test RMSE: 1.7125\n",
      "Epoch 3/30, Train RMSE: 1.5849, Test RMSE: 1.6148\n",
      "Epoch 4/30, Train RMSE: 1.5270, Test RMSE: 1.5600\n",
      "Epoch 5/30, Train RMSE: 1.4134, Test RMSE: 1.4919\n",
      "Epoch 6/30, Train RMSE: 1.2618, Test RMSE: 1.4142\n",
      "Epoch 7/30, Train RMSE: 1.1728, Test RMSE: 1.4053\n",
      "Epoch 8/30, Train RMSE: 1.1209, Test RMSE: 1.4117\n",
      "Epoch 9/30, Train RMSE: 1.0880, Test RMSE: 1.4179\n",
      "Epoch 10/30, Train RMSE: 1.0656, Test RMSE: 1.4225\n",
      "Epoch 11/30, Train RMSE: 1.0495, Test RMSE: 1.4270\n",
      "Epoch 12/30, Train RMSE: 1.0373, Test RMSE: 1.4313\n",
      "Epoch 13/30, Train RMSE: 1.0277, Test RMSE: 1.4362\n",
      "Epoch 14/30, Train RMSE: 1.0200, Test RMSE: 1.4414\n",
      "Epoch 15/30, Train RMSE: 1.0137, Test RMSE: 1.4466\n",
      "Epoch 16/30, Train RMSE: 1.0085, Test RMSE: 1.4515\n",
      "Epoch 17/30, Train RMSE: 1.0042, Test RMSE: 1.4558\n",
      "Epoch 18/30, Train RMSE: 1.0005, Test RMSE: 1.4597\n",
      "Epoch 19/30, Train RMSE: 0.9975, Test RMSE: 1.4630\n",
      "Epoch 20/30, Train RMSE: 0.9948, Test RMSE: 1.4661\n",
      "Epoch 21/30, Train RMSE: 0.9926, Test RMSE: 1.4691\n",
      "Epoch 22/30, Train RMSE: 0.9905, Test RMSE: 1.4720\n",
      "Epoch 23/30, Train RMSE: 0.9887, Test RMSE: 1.4746\n",
      "Epoch 24/30, Train RMSE: 0.9871, Test RMSE: 1.4767\n",
      "Epoch 25/30, Train RMSE: 0.9856, Test RMSE: 1.4786\n",
      "Epoch 26/30, Train RMSE: 0.9841, Test RMSE: 1.4805\n",
      "Epoch 27/30, Train RMSE: 0.9828, Test RMSE: 1.4822\n",
      "Epoch 28/30, Train RMSE: 0.9815, Test RMSE: 1.4838\n",
      "Epoch 29/30, Train RMSE: 0.9803, Test RMSE: 1.4853\n",
      "Epoch 30/30, Train RMSE: 0.9792, Test RMSE: 1.4867\n"
     ]
    },
    {
     "data": {
      "image/png": "[encoded data removed]",
      "text/plain": [
       "<Figure size 640x480 with 1 Axes>"
      ]
     },
     "metadata": {},
     "output_type": "display_data"
    }
   ],
   "source": [
    "# 训练模型\n",
    "for epoch in range(maxepoch):\n",
    "    for batch in range(numbatches):\n",
    "        start = batch * N\n",
    "        end = start + N\n",
    "        if end > pairs_tr:\n",
    "            end = pairs_tr\n",
    "        \n",
    "        aa_p = train_vec.iloc[start:end][\"user_id\"].values - 1\n",
    "        aa_m = train_vec.iloc[start:end][\"item_id\"].values - 1\n",
    "        rating = train_vec.iloc[start:end][\"click\"].values.astype(float)  # 确保 rating 为浮点数\n",
    "        rating -= mean_rating\n",
    "        \n",
    "        pred_out = np.sum(w1_M1[aa_m] * w1_P1[aa_p], axis=1)\n",
    "        f = np.sum((pred_out - rating) ** 2)\n",
    "        \n",
    "        IO = 2 * (pred_out - rating)\n",
    "        IO = np.tile(IO[:, None], num_feat)\n",
    "        \n",
    "        Ix_m = IO * w1_P1[aa_p]\n",
    "        Ix_p = IO * w1_M1[aa_m]\n",
    "        \n",
    "        dw1_M1 = np.zeros((movie_num, num_feat))\n",
    "        dw1_P1 = np.zeros((user_num, num_feat))\n",
    "        \n",
    "        for ii in range(N):\n",
    "            dw1_M1[aa_m[ii]] += Ix_m[ii]\n",
    "            dw1_P1[aa_p[ii]] += Ix_p[ii]\n",
    "        \n",
    "        w1_M1_inc = momentum * w1_M1_inc + epsilon * dw1_M1 / N\n",
    "        w1_M1 -= w1_M1_inc\n",
    "        w1_P1_inc = momentum * w1_P1_inc + epsilon * dw1_P1 / N\n",
    "        w1_P1 -= w1_P1_inc\n",
    "    \n",
    "    pred_out = np.sum(w1_M1[aa_m] * w1_P1[aa_p], axis=1)\n",
    "    f_s = np.sum((pred_out - rating) ** 2)\n",
    "    err_train[epoch] = np.sqrt(f_s / N)\n",
    "    \n",
    "    aa_p = probe_vec[\"user_id\"].values - 1\n",
    "    aa_m = probe_vec[\"item_id\"].values - 1\n",
    "    rating = probe_vec[\"click\"].values\n",
    "    \n",
    "    pred_out = np.sum(w1_M1[aa_m] * w1_P1[aa_p], axis=1) + mean_rating\n",
    "    pred_out = np.clip(pred_out, 1, 5)\n",
    "    \n",
    "    err_valid[epoch] = np.sqrt(np.sum((pred_out - rating) ** 2) / pairs_pr)\n",
    "    \n",
    "    print(f'Epoch {epoch + 1}/{maxepoch}, Train RMSE: {err_train[epoch]:.4f}, Test RMSE: {err_valid[epoch]:.4f}')\n",
    "\n",
    "# 绘制误差曲线\n",
    "plt.plot(range(1, maxepoch + 1), err_train, label=\"Train Error\", color=\"blue\")\n",
    "plt.plot(range(1, maxepoch + 1), err_valid, label=\"Validation Error\", color=\"red\")\n",
    "plt.xlabel(\"Epoch\")\n",
    "plt.ylabel(\"Error\")\n",
    "plt.legend()\n",
    "plt.show()"
   ]
  },
  {
   "cell_type": "code",
   "execution_count": 9,
   "metadata": {},
   "outputs": [],
   "source": [
    "# 定义常量\n",
    "j = 10"
   ]
  },
  {
   "cell_type": "code",
   "execution_count": 10,
   "metadata": {},
   "outputs": [],
   "source": [
    "# 计算Precision@10\n",
    "precisions = []\n",
    "for i in range(user_num):\n",
    "    user_i_rating_real = probe_vec[probe_vec['user_id'] == i + 1]\n",
    "    user_i_rating_real = user_i_rating_real.sort_values(by='click', ascending=False)\n",
    "    user_i_rating = np.dot(w1_P1[i, :], w1_M1[user_i_rating_real['item_id'].values - 1].T) + mean_rating\n",
    "    \n",
    "    if len(user_i_rating_real) > j:\n",
    "        top_j_pred = np.argsort(-user_i_rating)[:j]\n",
    "        precision = np.sum(np.isin(top_j_pred, np.arange(j))) / j\n",
    "        precisions.append(precision)\n",
    "    else:\n",
    "        ti = np.sum(user_i_rating_real['click'] >= 4)\n",
    "        if ti != 0:\n",
    "            precision = np.sum(user_i_rating[:ti] >= 4) / ti\n",
    "            precisions.append(precision)\n",
    "\n",
    "Pre = np.mean(precisions)"
   ]
  },
  {
   "cell_type": "code",
   "execution_count": 11,
   "metadata": {},
   "outputs": [],
   "source": [
    "# 计算Recall@10\n",
    "recalls = []\n",
    "for i in range(user_num):\n",
    "    user_i_rating_real = probe_vec[probe_vec['user_id'] == i + 1]\n",
    "    user_i_rating_real = user_i_rating_real.sort_values(by='click', ascending=False)\n",
    "    user_i_rating = np.dot(w1_P1[i, :], w1_M1[user_i_rating_real['item_id'].values - 1].T) + mean_rating\n",
    "    \n",
    "    if len(user_i_rating_real) > j:\n",
    "        user_i_rating[user_i_rating < 4] = 0\n",
    "        user_i_rating[user_i_rating >= 4] = 1\n",
    "        ti = np.sum(user_i_rating)\n",
    "        if ti != 0:\n",
    "            bigerthan4 = np.sum(user_i_rating_real['click'] >= 4)\n",
    "            tinri = np.sum(user_i_rating[:bigerthan4])\n",
    "            recall = tinri / ti\n",
    "            recalls.append(recall)\n",
    "    else:\n",
    "        ti = np.sum(user_i_rating_real['click'] >= 4)\n",
    "        if ti != 0:\n",
    "            recall = np.sum(user_i_rating[:ti] >= 4) / ti\n",
    "            recalls.append(recall)\n",
    "\n",
    "Re = np.mean(recalls)"
   ]
  },
  {
   "cell_type": "code",
   "execution_count": 12,
   "metadata": {},
   "outputs": [
    {
     "name": "stdout",
     "output_type": "stream",
     "text": [
      "Recall@10: 0.5973, Precision@10: 0.5963\n"
     ]
    }
   ],
   "source": [
    "print(f'Recall@10: {Re:.4f}, Precision@10: {Pre:.4f}')"
   ]
  },
  {
   "cell_type": "code",
   "execution_count": 13,
   "metadata": {},
   "outputs": [],
   "source": [
    "# 读取测试集数据\n",
    "test = pd.read_csv(\"data/test.txt\", header=None, sep=' ')\n",
    "test.columns = ['user_id']\n",
    "\n",
    "# 定义常量\n",
    "j = 10\n",
    "\n",
    "# 初始化变量\n",
    "record = []\n",
    "\n",
    "# 对每个测试用户进行推荐\n",
    "for i in test['user_id']:\n",
    "    user_i_rating = np.dot(w1_P1[i - 1, :], w1_M1.T) + mean_rating\n",
    "    used = data[data['user_id'] == i]['item_id'].values - 1  # 减1以匹配索引\n",
    "    user_i_rating[used] = 0\n",
    "    top_j_movies = np.argsort(user_i_rating)[-j:][::-1] + 1  # 加1以匹配实际的电影ID\n",
    "    record.append(top_j_movies)\n",
    "\n",
    "# 将推荐结果与测试集用户结合\n",
    "record_df = pd.DataFrame(record, columns=[f'recommended_movie_{k}' for k in range(1, j + 1)])\n",
    "final_result = pd.concat([test, record_df], axis=1)\n",
    "\n",
    "# 保存到CSV文件\n",
    "final_result.to_csv('result.csv', index=False)"
   ]
  }
 ],
 "metadata": {
  "kernelspec": {
   "display_name": "rs",
   "language": "python",
   "name": "python3"
  },
  "language_info": {
   "codemirror_mode": {
    "name": "ipython",
    "version": 3
   },
   "file_extension": ".py",
   "mimetype": "text/x-python",
   "name": "python",
   "nbconvert_exporter": "python",
   "pygments_lexer": "ipython3",
   "version": "3.11.9"
  }
 },
 "nbformat": 4,
 "nbformat_minor": 2
}
