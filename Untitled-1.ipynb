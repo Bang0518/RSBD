{
 "cells": [
  {
   "cell_type": "code",
   "execution_count": 24,
   "metadata": {},
   "outputs": [],
   "source": [
    "import numpy as np\n",
    "import pandas as pd\n",
    "from sklearn.model_selection import train_test_split\n",
    "import matplotlib.pyplot as plt\n",
    "\n",
    "# 参数设置\n",
    "epsilon = 50  # 学习率\n",
    "lambda_ = 0.1  # 正则化参数\n",
    "momentum = 0.7  # 动量优化参数\n",
    "maxepoch = 10  # 总训练次数\n",
    "num_feat = 10  # 隐因子数量\n",
    "\n",
    "# 初始化误差\n",
    "err_train = np.zeros(maxepoch)\n",
    "err_valid = np.zeros(maxepoch)\n",
    "err_random = np.zeros(maxepoch)\n"
   ]
  },
  {
   "cell_type": "code",
   "execution_count": 25,
   "metadata": {},
   "outputs": [
    {
     "name": "stdout",
     "output_type": "stream",
     "text": [
      "0    0\n",
      "1    0\n",
      "2    0\n",
      "3    0\n",
      "dtype: int64\n",
      "                  0             1        2        3\n",
      "count  44234.000000  44234.000000  44234.0  44234.0\n",
      "mean     459.633269    377.046073      1.0      5.0\n",
      "std      267.952940    300.498038      0.0      0.0\n",
      "min        1.000000      1.000000      1.0      5.0\n",
      "25%      253.000000    160.000000      1.0      5.0\n",
      "50%      445.500000    286.000000      1.0      5.0\n",
      "75%      682.000000    527.000000      1.0      5.0\n",
      "max      943.000000   1674.000000      1.0      5.0\n",
      "0\n",
      "0\n",
      "0\n",
      "0\n"
     ]
    },
    {
     "ename": "ValueError",
     "evalue": "max() arg is an empty sequence",
     "output_type": "error",
     "traceback": [
      "\u001b[1;31m---------------------------------------------------------------------------\u001b[0m",
      "\u001b[1;31mValueError\u001b[0m                                Traceback (most recent call last)",
      "Cell \u001b[1;32mIn[25], line 53\u001b[0m\n\u001b[0;32m     51\u001b[0m user \u001b[38;5;241m=\u001b[39m data[\u001b[38;5;241m1\u001b[39m]\u001b[38;5;241m.\u001b[39mvalues\n\u001b[0;32m     52\u001b[0m data_num \u001b[38;5;241m=\u001b[39m \u001b[38;5;28mlen\u001b[39m(rating)\n\u001b[1;32m---> 53\u001b[0m movie_num \u001b[38;5;241m=\u001b[39m \u001b[38;5;28mint\u001b[39m(\u001b[38;5;28mmax\u001b[39m(movie))  \u001b[38;5;66;03m# 电影数量\u001b[39;00m\n\u001b[0;32m     54\u001b[0m user_num \u001b[38;5;241m=\u001b[39m \u001b[38;5;28mint\u001b[39m(\u001b[38;5;28mmax\u001b[39m(user))  \u001b[38;5;66;03m# 用户数量\u001b[39;00m\n\u001b[0;32m     56\u001b[0m \u001b[38;5;66;03m# 打乱数据集\u001b[39;00m\n",
      "\u001b[1;31mValueError\u001b[0m: max() arg is an empty sequence"
     ]
    }
   ],
   "source": [
    "# 导入数据\n",
    "data = pd.read_csv(\"data/training.txt\", header=None, sep=' ')\n",
    "data[3] = 5\n",
    "\n",
    "# 检查数据中是否存在缺失值\n",
    "print(data.isnull().sum())\n",
    "\n",
    "# 去除缺失值\n",
    "data = data.dropna()\n",
    "\n",
    "rating = data[3].values\n",
    "movie = data[2].values\n",
    "user = data[1].values\n",
    "data_num = len(rating)\n",
    "movie_num = int(max(movie))  # 电影数量\n",
    "user_num = int(max(user))  # 用户数量\n",
    "\n",
    "# 打印数据的基本统计信息\n",
    "print(data.describe())\n",
    "\n",
    "\n",
    "# 确保用户和电影ID为整数\n",
    "data[0] = data[0].astype(int)\n",
    "data[1] = data[1].astype(int)\n",
    "data[2] = data[2].astype(int)\n",
    "data[3] = data[3].astype(float)\n",
    "\n",
    "# 检查数据中是否有无效值\n",
    "print(data[0].isnull().sum())\n",
    "print(data[1].isnull().sum())\n",
    "print(data[2].isnull().sum())\n",
    "print(data[3].isnull().sum())\n",
    "\n",
    "# 负采样\n",
    "negative_sample = np.random.randint(1, user_num * movie_num, data_num)\n",
    "record_user = []\n",
    "record_movie = []\n",
    "record_rating = [1] * data_num\n",
    "for i in negative_sample:\n",
    "    movie_i = i // user_num\n",
    "    user_i = i % user_num + 1\n",
    "    record_user.append(user_i)\n",
    "    record_movie.append(movie_i)\n",
    "negative_data = pd.DataFrame({'user': record_user, 'movie': record_movie, 'rating': record_rating})\n",
    "\n",
    "# 融合正样本和负样本\n",
    "data = pd.concat([data, negative_data])\n",
    "data = data.dropna()  # 再次去除缺失值\n",
    "rating = data[3].values\n",
    "movie = data[2].values\n",
    "user = data[1].values\n",
    "data_num = len(rating)\n",
    "movie_num = int(max(movie))  # 电影数量\n",
    "user_num = int(max(user))  # 用户数量\n",
    "\n",
    "# 打乱数据集\n",
    "data = data.sample(frac=1).reset_index(drop=True)\n",
    "\n"
   ]
  },
  {
   "cell_type": "code",
   "execution_count": null,
   "metadata": {},
   "outputs": [],
   "source": [
    "# 划分训练集和测试集\n",
    "train_num = 80000\n",
    "train_vec = data.iloc[:train_num]\n",
    "probe_vec = data.iloc[train_num:84000]\n",
    "mean_rating = np.mean(train_vec[3])\n",
    "\n",
    "pairs_tr = len(train_vec)\n",
    "pairs_pr = len(probe_vec)\n",
    "numbatches = 8\n",
    "num_m = movie_num\n",
    "num_p = user_num\n"
   ]
  },
  {
   "cell_type": "code",
   "execution_count": null,
   "metadata": {},
   "outputs": [],
   "source": [
    "# 初始化\n",
    "w1_M1 = 0.1 * np.random.rand(num_m, num_feat)\n",
    "w1_P1 = 0.1 * np.random.rand(num_p, num_feat)\n",
    "w1_M1_inc = np.zeros((num_m, num_feat))\n",
    "w1_P1_inc = np.zeros((num_p, num_feat))\n"
   ]
  },
  {
   "cell_type": "code",
   "execution_count": null,
   "metadata": {},
   "outputs": [
    {
     "name": "stdout",
     "output_type": "stream",
     "text": [
      "Epoch 1, Train RMSE: nan, Valid RMSE: nan\n"
     ]
    },
    {
     "name": "stderr",
     "output_type": "stream",
     "text": [
      "C:\\Users\\Admin\\AppData\\Local\\Temp\\ipykernel_26044\\3290841370.py:8: RuntimeWarning: invalid value encountered in cast\n",
      "  aa_p = train_vec.iloc[start_idx:end_idx, 0].values.astype(int) - 1\n",
      "C:\\Users\\Admin\\AppData\\Local\\Temp\\ipykernel_26044\\3290841370.py:9: RuntimeWarning: invalid value encountered in cast\n",
      "  aa_m = train_vec.iloc[start_idx:end_idx, 1].values.astype(int) - 1\n",
      "C:\\Users\\Admin\\AppData\\Local\\Temp\\ipykernel_26044\\3290841370.py:42: RuntimeWarning: invalid value encountered in cast\n",
      "  aa_p = probe_vec[0].values.astype(int) - 1\n",
      "C:\\Users\\Admin\\AppData\\Local\\Temp\\ipykernel_26044\\3290841370.py:43: RuntimeWarning: invalid value encountered in cast\n",
      "  aa_m = probe_vec[1].values.astype(int) - 1\n"
     ]
    },
    {
     "name": "stdout",
     "output_type": "stream",
     "text": [
      "Epoch 2, Train RMSE: nan, Valid RMSE: nan\n",
      "Epoch 3, Train RMSE: nan, Valid RMSE: nan\n",
      "Epoch 4, Train RMSE: nan, Valid RMSE: nan\n",
      "Epoch 5, Train RMSE: nan, Valid RMSE: nan\n",
      "Epoch 6, Train RMSE: nan, Valid RMSE: nan\n",
      "Epoch 7, Train RMSE: nan, Valid RMSE: nan\n",
      "Epoch 8, Train RMSE: nan, Valid RMSE: nan\n",
      "Epoch 9, Train RMSE: nan, Valid RMSE: nan\n",
      "Epoch 10, Train RMSE: nan, Valid RMSE: nan\n"
     ]
    }
   ],
   "source": [
    "for epoch in range(maxepoch):\n",
    "    for batch in range(numbatches):\n",
    "        N = 10000\n",
    "        start_idx = batch * N\n",
    "        end_idx = (batch + 1) * N\n",
    "        \n",
    "        # 获取当前批次的数据\n",
    "        aa_p = train_vec.iloc[start_idx:end_idx, 0].values.astype(int) - 1\n",
    "        aa_m = train_vec.iloc[start_idx:end:end_idx, 1].values.astype(int) - 1\n",
    "        \n",
    "        # 确保索引在范围内\n",
    "        aa_p = np.clip(aa_p, 0, num_p - 1)\n",
    "        aa_m = np.clip(aa_m, 0, num_m - 1)\n",
    "        \n",
    "        rating = train_vec.iloc[start_idx:end_idx, 2].values - mean_rating\n",
    "\n",
    "        pred_out = np.sum(w1_M1[aa_m] * w1_P1[aa_p], axis=1)\n",
    "        f = np.sum((pred_out - rating) ** 2)\n",
    "\n",
    "        IO = 2 * (pred_out - rating)[:, np.newaxis]\n",
    "        Ix_m = IO * w1_P1[aa_p]\n",
    "        Ix_p = IO * w1_M1[aa_m]\n",
    "\n",
    "        dw1_M1 = np.zeros((num_m, num_feat))\n",
    "        dw1_P1 = np.zeros((num_p, num_feat))\n",
    "\n",
    "        for ii in range(N):\n",
    "            dw1_M1[aa_m[ii]] += Ix_m[ii]\n",
    "            dw1_P1[aa_p[ii]] += Ix_p[ii]\n",
    "\n",
    "        w1_M1_inc = momentum * w1_M1_inc + epsilon * dw1_M1 / N\n",
    "        w1_M1 -= w1_M1_inc\n",
    "        w1_P1_inc = momentum * w1_P1_inc + epsilon * dw1_P1 / N\n",
    "        w1_P1 -= w1_P1_inc\n",
    "\n",
    "    # 计算训练误差\n",
    "    pred_out = np.sum(w1_M1[aa_m] * w1_P1[aa_p], axis=1)\n",
    "    f_s = np.sum((pred_out - rating) ** 2)\n",
    "    err_train[epoch] = np.sqrt(f_s / N)\n",
    "\n",
    "    # 计算验证误差\n",
    "    aa_p = probe_vec[0].values.astype(int) - 1\n",
    "    aa_m = probe_vec[1].values.astype(int) - 1\n",
    "    \n",
    "    # 确保索引在范围内\n",
    "    aa_p = np.clip(aa_p, 0, num_p - 1)\n",
    "    aa_m = np.clip(aa_m, 0, num_m - 1)\n",
    "    \n",
    "    rating = probe_vec[2].values\n",
    "    pred_out = np.sum(w1_M1[aa_m] * w1_P1[aa_p], axis=1) + mean_rating\n",
    "    pred_out = np.clip(pred_out, 1, 5)\n",
    "    err_valid[epoch] = np.sqrt(np.sum((pred_out - rating) ** 2) / pairs_pr)\n",
    "    print(f'Epoch {epoch+1}, Train RMSE: {err_train[epoch]:.4f}, Valid RMSE: {err_valid[epoch]:.4f}')\n"
   ]
  },
  {
   "cell_type": "code",
   "execution_count": null,
   "metadata": {},
   "outputs": [
    {
     "data": {
      "image/png": "[encoded data removed]",
      "text/plain": [
       "<Figure size 640x480 with 1 Axes>"
      ]
     },
     "metadata": {},
     "output_type": "display_data"
    }
   ],
   "source": [
    "# 绘制迭代的损失函数图\n",
    "plt.plot(err_train, label='train', color='blue', linewidth=4)\n",
    "plt.plot(err_valid, label='test', color='green', linewidth=3)\n",
    "plt.xlabel('Epoch')\n",
    "plt.ylabel('Loss')\n",
    "plt.title('Loss')\n",
    "plt.legend(['train', 'test'], loc='upper right')\n",
    "plt.show()\n"
   ]
  },
  {
   "cell_type": "code",
   "execution_count": null,
   "metadata": {},
   "outputs": [
    {
     "name": "stdout",
     "output_type": "stream",
     "text": [
      "Pre@10: nan, Re@10: nan\n"
     ]
    },
    {
     "name": "stderr",
     "output_type": "stream",
     "text": [
      "c:\\ProgramData\\anaconda3\\envs\\rs\\Lib\\site-packages\\numpy\\core\\fromnumeric.py:3504: RuntimeWarning: Mean of empty slice.\n",
      "  return _methods._mean(a, axis=axis, dtype=dtype,\n",
      "c:\\ProgramData\\anaconda3\\envs\\rs\\Lib\\site-packages\\numpy\\core\\_methods.py:129: RuntimeWarning: invalid value encountered in scalar divide\n",
      "  ret = ret.dtype.type(ret / rcount)\n"
     ]
    }
   ],
   "source": [
    "# 计算 Pre@10 和 Re@10\n",
    "j = 10\n",
    "Pre_list = []\n",
    "Re_list = []\n",
    "\n",
    "for i in range(user_num):\n",
    "    user_i_rating_real = probe_vec[probe_vec[0] == i + 1]\n",
    "    user_i_rating_real = user_i_rating_real.sort_values(by=2, ascending=False)\n",
    "    user_i_rating = np.dot(w1_P1[i], w1_M1.T) + mean_rating\n",
    "    used = data[data[0] == i + 1][1].values.astype(int) - 1\n",
    "    used = np.clip(used, 0, num_m - 1)  # 确保索引在范围内\n",
    "    user_i_rating[used] = 0\n",
    "    top_j_items = np.argsort(user_i_rating)[-j:][::-1]\n",
    "    true_items = user_i_rating_real[user_i_rating_real[2] >= 4][1].values.astype(int) - 1\n",
    "    true_items = np.clip(true_items, 0, num_m - 1)  # 确保索引在范围内\n",
    "\n",
    "    if len(true_items) > 0:\n",
    "        pre_at_j = np.sum(np.isin(top_j_items, true_items)) / j\n",
    "        re_at_j = np.sum(np.isin(top_j_items, true_items)) / len(true_items)\n",
    "        Pre_list.append(pre_at_j)\n",
    "        Re_list.append(re_at_j)\n",
    "\n",
    "Pre = np.mean(Pre_list)\n",
    "Re = np.mean(Re_list)\n",
    "\n",
    "print(f'Pre@10: {Pre:.4f}, Re@10: {Re:.4f}')\n"
   ]
  },
  {
   "cell_type": "code",
   "execution_count": null,
   "metadata": {},
   "outputs": [],
   "source": [
    "# 在新样本上进行预测\n",
    "test = pd.read_csv(\"data/test.txt\", header=None, sep=' ')\n",
    "j = 10\n",
    "recommendations = []\n",
    "\n",
    "for i in test[0]:\n",
    "    user_i_rating = np.dot(w1_P1[int(i) - 1], w1_M1.T) + mean_rating\n",
    "    used = data[data[0] == int(i)][1].values.astype(int) - 1\n",
    "    used = np.clip(used, 0, num_m - 1)  # 确保索引在范围内\n",
    "    user_i_rating[used] = 0\n",
    "    top_j_items = np.argsort(user_i_rating)[-j:][::-1]\n",
    "    recommendations.append(top_j_items)\n",
    "\n",
    "recommendations = pd.DataFrame(recommendations)\n",
    "final_result = pd.concat([test, recommendations], axis=1)\n",
    "final_result.to_csv('data/result.csv', index=False, header=False)\n"
   ]
  }
 ],
 "metadata": {
  "kernelspec": {
   "display_name": "rs",
   "language": "python",
   "name": "python3"
  },
  "language_info": {
   "codemirror_mode": {
    "name": "ipython",
    "version": 3
   },
   "file_extension": ".py",
   "mimetype": "text/x-python",
   "name": "python",
   "nbconvert_exporter": "python",
   "pygments_lexer": "ipython3",
   "version": "3.11.9"
  }
 },
 "nbformat": 4,
 "nbformat_minor": 2
}
